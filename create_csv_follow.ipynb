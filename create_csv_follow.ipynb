{
 "cells": [
  {
   "cell_type": "code",
   "execution_count": 40,
   "metadata": {},
   "outputs": [],
   "source": [
    "import pandas as pd\n",
    "from dotenv import load_dotenv"
   ]
  },
  {
   "cell_type": "code",
   "execution_count": 25,
   "metadata": {},
   "outputs": [],
   "source": [
    "from translation.database import get_posts_from_titles\n"
   ]
  },
  {
   "cell_type": "code",
   "execution_count": 42,
   "metadata": {},
   "outputs": [
    {
     "data": {
      "text/plain": [
       "False"
      ]
     },
     "execution_count": 42,
     "metadata": {},
     "output_type": "execute_result"
    }
   ],
   "source": [
    "load_dotenv(dotenv_path=\".env.db\")\n"
   ]
  },
  {
   "cell_type": "code",
   "execution_count": 29,
   "metadata": {},
   "outputs": [],
   "source": [
    "df_en = pd.read_csv(\"./data/articles_traduction_anglais_241015.csv\")\n"
   ]
  },
  {
   "cell_type": "code",
   "execution_count": 30,
   "metadata": {},
   "outputs": [],
   "source": [
    "df_es = pd.read_csv(\"./data/articles_traduction_espagnol_241016.csv\")"
   ]
  },
  {
   "cell_type": "code",
   "execution_count": 32,
   "metadata": {},
   "outputs": [],
   "source": [
    "# Rename column [\"A traduire ?\"] par \"to_be_translated_en\" et remplace OUI par True et le reste par False\n",
    "df_en[\"to_be_translated_en\"] = df_en[\"A traduire ?\"].apply(\n",
    "    lambda x: True if x == \"OUI\" else False\n",
    ")\n",
    "\n",
    "df_en = df_en[[\"title\", \"to_be_translated_en\"]]\n"
   ]
  },
  {
   "cell_type": "code",
   "execution_count": 33,
   "metadata": {},
   "outputs": [
    {
     "data": {
      "text/html": [
       "<div>\n",
       "<style scoped>\n",
       "    .dataframe tbody tr th:only-of-type {\n",
       "        vertical-align: middle;\n",
       "    }\n",
       "\n",
       "    .dataframe tbody tr th {\n",
       "        vertical-align: top;\n",
       "    }\n",
       "\n",
       "    .dataframe thead th {\n",
       "        text-align: right;\n",
       "    }\n",
       "</style>\n",
       "<table border=\"1\" class=\"dataframe\">\n",
       "  <thead>\n",
       "    <tr style=\"text-align: right;\">\n",
       "      <th></th>\n",
       "      <th>title</th>\n",
       "      <th>to_be_translated_en</th>\n",
       "    </tr>\n",
       "  </thead>\n",
       "  <tbody>\n",
       "    <tr>\n",
       "      <th>0</th>\n",
       "      <td>Qu'est-ce que le projet de naissance ?</td>\n",
       "      <td>False</td>\n",
       "    </tr>\n",
       "    <tr>\n",
       "      <th>1</th>\n",
       "      <td>Les méthodes classiques de préparation à la na...</td>\n",
       "      <td>False</td>\n",
       "    </tr>\n",
       "    <tr>\n",
       "      <th>2</th>\n",
       "      <td>Les méthodes alternatives de préparation à la ...</td>\n",
       "      <td>False</td>\n",
       "    </tr>\n",
       "    <tr>\n",
       "      <th>3</th>\n",
       "      <td>Les suites immédiates d'un accouchement</td>\n",
       "      <td>False</td>\n",
       "    </tr>\n",
       "    <tr>\n",
       "      <th>4</th>\n",
       "      <td>Les instruments à la naissance</td>\n",
       "      <td>False</td>\n",
       "    </tr>\n",
       "  </tbody>\n",
       "</table>\n",
       "</div>"
      ],
      "text/plain": [
       "                                               title  to_be_translated_en\n",
       "0             Qu'est-ce que le projet de naissance ?                False\n",
       "1  Les méthodes classiques de préparation à la na...                False\n",
       "2  Les méthodes alternatives de préparation à la ...                False\n",
       "3           Les suites immédiates d'un accouchement                 False\n",
       "4                     Les instruments à la naissance                False"
      ]
     },
     "execution_count": 33,
     "metadata": {},
     "output_type": "execute_result"
    }
   ],
   "source": [
    "df_en.head()"
   ]
  },
  {
   "cell_type": "code",
   "execution_count": 35,
   "metadata": {},
   "outputs": [],
   "source": [
    "# Rename column [\"A traduire ?\"] par \"to_be_translated_en\" et remplace OUI par True et le reste par False\n",
    "df_es[\"to_be_translated_es\"] = df_es[\"A traduire ?\"].apply(\n",
    "    lambda x: True if x == \"OUI\" else False\n",
    ")\n",
    "\n",
    "df_es = df_es[[\"title\", \"to_be_translated_es\"]]\n"
   ]
  },
  {
   "cell_type": "code",
   "execution_count": 36,
   "metadata": {},
   "outputs": [],
   "source": [
    "# Merge les deux dataframes\n",
    "df = pd.merge(df_en, df_es, on=\"title\", how=\"outer\")"
   ]
  },
  {
   "cell_type": "code",
   "execution_count": 38,
   "metadata": {},
   "outputs": [
    {
     "name": "stdout",
     "output_type": "stream",
     "text": [
      "<class 'pandas.core.frame.DataFrame'>\n",
      "RangeIndex: 760 entries, 0 to 759\n",
      "Data columns (total 3 columns):\n",
      " #   Column               Non-Null Count  Dtype \n",
      "---  ------               --------------  ----- \n",
      " 0   title                760 non-null    object\n",
      " 1   to_be_translated_en  760 non-null    bool  \n",
      " 2   to_be_translated_es  760 non-null    bool  \n",
      "dtypes: bool(2), object(1)\n",
      "memory usage: 7.6+ KB\n"
     ]
    }
   ],
   "source": [
    "df.info()"
   ]
  },
  {
   "cell_type": "code",
   "execution_count": 43,
   "metadata": {},
   "outputs": [
    {
     "ename": "TypeError",
     "evalue": "can only concatenate str (not \"NoneType\") to str",
     "output_type": "error",
     "traceback": [
      "\u001b[0;31m---------------------------------------------------------------------------\u001b[0m",
      "\u001b[0;31mTypeError\u001b[0m                                 Traceback (most recent call last)",
      "Cell \u001b[0;32mIn[43], line 1\u001b[0m\n\u001b[0;32m----> 1\u001b[0m df_post \u001b[38;5;241m=\u001b[39m \u001b[43mget_posts_from_titles\u001b[49m\u001b[43m(\u001b[49m\u001b[43mdf\u001b[49m\u001b[43m)\u001b[49m\n",
      "File \u001b[0;32m~/Documents/code/translation/translation/database.py:35\u001b[0m, in \u001b[0;36mget_posts_from_titles\u001b[0;34m(df)\u001b[0m\n\u001b[1;32m     32\u001b[0m \u001b[38;5;28;01mdef\u001b[39;00m \u001b[38;5;21mget_posts_from_titles\u001b[39m(df) \u001b[38;5;241m-\u001b[39m\u001b[38;5;241m>\u001b[39m pd\u001b[38;5;241m.\u001b[39mDataFrame:\n\u001b[1;32m     33\u001b[0m     \u001b[38;5;66;03m# Get the posts from the db\u001b[39;00m\n\u001b[1;32m     34\u001b[0m     CMS_DB_URL \u001b[38;5;241m=\u001b[39m (\n\u001b[0;32m---> 35\u001b[0m         \u001b[38;5;124;43m\"\u001b[39;49m\u001b[38;5;124;43mpostgresql://\u001b[39;49m\u001b[38;5;124;43m\"\u001b[39;49m\n\u001b[1;32m     36\u001b[0m \u001b[43m        \u001b[49m\u001b[38;5;241;43m+\u001b[39;49m\u001b[43m \u001b[49m\u001b[43mos\u001b[49m\u001b[38;5;241;43m.\u001b[39;49m\u001b[43mgetenv\u001b[49m\u001b[43m(\u001b[49m\u001b[38;5;124;43m\"\u001b[39;49m\u001b[38;5;124;43mCMS_DB_USER\u001b[39;49m\u001b[38;5;124;43m\"\u001b[39;49m\u001b[43m)\u001b[49m\n\u001b[1;32m     37\u001b[0m         \u001b[38;5;241m+\u001b[39m \u001b[38;5;124m\"\u001b[39m\u001b[38;5;124m:\u001b[39m\u001b[38;5;124m\"\u001b[39m\n\u001b[1;32m     38\u001b[0m         \u001b[38;5;241m+\u001b[39m os\u001b[38;5;241m.\u001b[39mgetenv(\u001b[38;5;124m\"\u001b[39m\u001b[38;5;124mCMS_DB_PWD\u001b[39m\u001b[38;5;124m\"\u001b[39m)\n\u001b[1;32m     39\u001b[0m         \u001b[38;5;241m+\u001b[39m \u001b[38;5;124m\"\u001b[39m\u001b[38;5;124m@\u001b[39m\u001b[38;5;124m\"\u001b[39m\n\u001b[1;32m     40\u001b[0m         \u001b[38;5;241m+\u001b[39m os\u001b[38;5;241m.\u001b[39mgetenv(\u001b[38;5;124m\"\u001b[39m\u001b[38;5;124mCMS_DB_HOST\u001b[39m\u001b[38;5;124m\"\u001b[39m)\n\u001b[1;32m     41\u001b[0m         \u001b[38;5;241m+\u001b[39m \u001b[38;5;124m\"\u001b[39m\u001b[38;5;124m:\u001b[39m\u001b[38;5;124m\"\u001b[39m\n\u001b[1;32m     42\u001b[0m         \u001b[38;5;241m+\u001b[39m os\u001b[38;5;241m.\u001b[39mgetenv(\u001b[38;5;124m\"\u001b[39m\u001b[38;5;124mCMS_DB_PORT\u001b[39m\u001b[38;5;124m\"\u001b[39m)\n\u001b[1;32m     43\u001b[0m         \u001b[38;5;241m+\u001b[39m \u001b[38;5;124m\"\u001b[39m\u001b[38;5;124m/\u001b[39m\u001b[38;5;124m\"\u001b[39m\n\u001b[1;32m     44\u001b[0m         \u001b[38;5;241m+\u001b[39m os\u001b[38;5;241m.\u001b[39mgetenv(\u001b[38;5;124m\"\u001b[39m\u001b[38;5;124mCMS_DB_NAME\u001b[39m\u001b[38;5;124m\"\u001b[39m)\n\u001b[1;32m     45\u001b[0m     )\n\u001b[1;32m     46\u001b[0m     cms_engine, cms_session_maker \u001b[38;5;241m=\u001b[39m connect_to_db(CMS_DB_URL)\n\u001b[1;32m     48\u001b[0m     posts_df \u001b[38;5;241m=\u001b[39m load_data_from_db(\u001b[38;5;124m\"\u001b[39m\u001b[38;5;124mposts\u001b[39m\u001b[38;5;124m\"\u001b[39m, cms_engine, cms_session_maker)\n",
      "\u001b[0;31mTypeError\u001b[0m: can only concatenate str (not \"NoneType\") to str"
     ]
    }
   ],
   "source": [
    "df_post = get_posts_from_titles(df)"
   ]
  },
  {
   "cell_type": "code",
   "execution_count": 44,
   "metadata": {},
   "outputs": [],
   "source": [
    "df_post = pd.read_csv(\"./data/posts.csv\")"
   ]
  },
  {
   "cell_type": "code",
   "execution_count": 49,
   "metadata": {},
   "outputs": [],
   "source": [
    "# merge df and df_post\n",
    "data = pd.merge(df, df_post, on=\"title\", how=\"outer\")"
   ]
  },
  {
   "cell_type": "code",
   "execution_count": 50,
   "metadata": {},
   "outputs": [
    {
     "data": {
      "text/html": [
       "<div>\n",
       "<style scoped>\n",
       "    .dataframe tbody tr th:only-of-type {\n",
       "        vertical-align: middle;\n",
       "    }\n",
       "\n",
       "    .dataframe tbody tr th {\n",
       "        vertical-align: top;\n",
       "    }\n",
       "\n",
       "    .dataframe thead th {\n",
       "        text-align: right;\n",
       "    }\n",
       "</style>\n",
       "<table border=\"1\" class=\"dataframe\">\n",
       "  <thead>\n",
       "    <tr style=\"text-align: right;\">\n",
       "      <th></th>\n",
       "      <th>title</th>\n",
       "      <th>to_be_translated_en</th>\n",
       "      <th>to_be_translated_es</th>\n",
       "      <th>id</th>\n",
       "      <th>content</th>\n",
       "    </tr>\n",
       "  </thead>\n",
       "  <tbody>\n",
       "    <tr>\n",
       "      <th>0</th>\n",
       "      <td>\"Bien se tenir à table\", ça veut dire quoi exa...</td>\n",
       "      <td>False</td>\n",
       "      <td>False</td>\n",
       "      <td>792</td>\n",
       "      <td>Voici un sujet qui fait souvent débat dans les...</td>\n",
       "    </tr>\n",
       "    <tr>\n",
       "      <th>1</th>\n",
       "      <td>10 questions que vous vous posez sur l'allaite...</td>\n",
       "      <td>True</td>\n",
       "      <td>True</td>\n",
       "      <td>584</td>\n",
       "      <td>Allaiter des jumeaux peut paraître fastidieux ...</td>\n",
       "    </tr>\n",
       "    <tr>\n",
       "      <th>2</th>\n",
       "      <td>10 sujets tabous sur la maternité</td>\n",
       "      <td>True</td>\n",
       "      <td>True</td>\n",
       "      <td>486</td>\n",
       "      <td>Si la parole se libère, il reste de nombreuses...</td>\n",
       "    </tr>\n",
       "    <tr>\n",
       "      <th>3</th>\n",
       "      <td>1er mois de grossesse : tout ce qu'il se passe</td>\n",
       "      <td>True</td>\n",
       "      <td>True</td>\n",
       "      <td>392</td>\n",
       "      <td>## Ce qu’il se passe en ce moment pour votre b...</td>\n",
       "    </tr>\n",
       "    <tr>\n",
       "      <th>4</th>\n",
       "      <td>2 conseils clés pour les débuts de l'allaitement</td>\n",
       "      <td>True</td>\n",
       "      <td>True</td>\n",
       "      <td>122</td>\n",
       "      <td>Voici 2 conseils de l'équipe May pour bien dém...</td>\n",
       "    </tr>\n",
       "  </tbody>\n",
       "</table>\n",
       "</div>"
      ],
      "text/plain": [
       "                                               title  to_be_translated_en  \\\n",
       "0  \"Bien se tenir à table\", ça veut dire quoi exa...                False   \n",
       "1  10 questions que vous vous posez sur l'allaite...                 True   \n",
       "2                  10 sujets tabous sur la maternité                 True   \n",
       "3     1er mois de grossesse : tout ce qu'il se passe                 True   \n",
       "4   2 conseils clés pour les débuts de l'allaitement                 True   \n",
       "\n",
       "   to_be_translated_es   id                                            content  \n",
       "0                False  792  Voici un sujet qui fait souvent débat dans les...  \n",
       "1                 True  584  Allaiter des jumeaux peut paraître fastidieux ...  \n",
       "2                 True  486  Si la parole se libère, il reste de nombreuses...  \n",
       "3                 True  392  ## Ce qu’il se passe en ce moment pour votre b...  \n",
       "4                 True  122  Voici 2 conseils de l'équipe May pour bien dém...  "
      ]
     },
     "execution_count": 50,
     "metadata": {},
     "output_type": "execute_result"
    }
   ],
   "source": [
    "data.head()"
   ]
  },
  {
   "cell_type": "code",
   "execution_count": 51,
   "metadata": {},
   "outputs": [],
   "source": [
    "# supprimer la colonne content et ajouter les colonnes ai_translated_es ai_translated_en translation_reviewed_es translation_reviewed_en translation_reviewed_by_es translation_reviewed_by_en approved_es approved_en approved_by_es approved_by_en\n",
    "data = data.drop(columns=[\"content\"])\n",
    "\n",
    "bool_colonnes = [\n",
    "    \"ai_translated_es\",\n",
    "    \"ai_translated_en\",\n",
    "    \"translation_reviewed_es\",\n",
    "    \"translation_reviewed_en\",\n",
    "    \"approved_es\",\n",
    "    \"approved_en\",\n",
    "]\n",
    "\n",
    "text_colonnes = [\n",
    "    \"translation_reviewed_by_es\",\n",
    "    \"translation_reviewed_by_en\",\n",
    "    \"approved_by_es\",\n",
    "    \"approved_by_en\",\n",
    "]\n",
    "\n",
    "for col in text_colonnes:\n",
    "    data[col] = None  # Vous pouvez remplacer None par une valeur initiale comme \"\"\n",
    "\n",
    "for col in bool_colonnes:\n",
    "    data[col] = False"
   ]
  },
  {
   "cell_type": "code",
   "execution_count": 52,
   "metadata": {},
   "outputs": [
    {
     "data": {
      "text/html": [
       "<div>\n",
       "<style scoped>\n",
       "    .dataframe tbody tr th:only-of-type {\n",
       "        vertical-align: middle;\n",
       "    }\n",
       "\n",
       "    .dataframe tbody tr th {\n",
       "        vertical-align: top;\n",
       "    }\n",
       "\n",
       "    .dataframe thead th {\n",
       "        text-align: right;\n",
       "    }\n",
       "</style>\n",
       "<table border=\"1\" class=\"dataframe\">\n",
       "  <thead>\n",
       "    <tr style=\"text-align: right;\">\n",
       "      <th></th>\n",
       "      <th>title</th>\n",
       "      <th>to_be_translated_en</th>\n",
       "      <th>to_be_translated_es</th>\n",
       "      <th>id</th>\n",
       "      <th>translation_reviewed_by_es</th>\n",
       "      <th>translation_reviewed_by_en</th>\n",
       "      <th>approved_by_es</th>\n",
       "      <th>approved_by_en</th>\n",
       "      <th>ai_translated_es</th>\n",
       "      <th>ai_translated_en</th>\n",
       "      <th>translation_reviewed_es</th>\n",
       "      <th>translation_reviewed_en</th>\n",
       "      <th>approved_es</th>\n",
       "      <th>approved_en</th>\n",
       "    </tr>\n",
       "  </thead>\n",
       "  <tbody>\n",
       "    <tr>\n",
       "      <th>0</th>\n",
       "      <td>\"Bien se tenir à table\", ça veut dire quoi exa...</td>\n",
       "      <td>False</td>\n",
       "      <td>False</td>\n",
       "      <td>792</td>\n",
       "      <td>None</td>\n",
       "      <td>None</td>\n",
       "      <td>None</td>\n",
       "      <td>None</td>\n",
       "      <td>False</td>\n",
       "      <td>False</td>\n",
       "      <td>False</td>\n",
       "      <td>False</td>\n",
       "      <td>False</td>\n",
       "      <td>False</td>\n",
       "    </tr>\n",
       "    <tr>\n",
       "      <th>1</th>\n",
       "      <td>10 questions que vous vous posez sur l'allaite...</td>\n",
       "      <td>True</td>\n",
       "      <td>True</td>\n",
       "      <td>584</td>\n",
       "      <td>None</td>\n",
       "      <td>None</td>\n",
       "      <td>None</td>\n",
       "      <td>None</td>\n",
       "      <td>False</td>\n",
       "      <td>False</td>\n",
       "      <td>False</td>\n",
       "      <td>False</td>\n",
       "      <td>False</td>\n",
       "      <td>False</td>\n",
       "    </tr>\n",
       "    <tr>\n",
       "      <th>2</th>\n",
       "      <td>10 sujets tabous sur la maternité</td>\n",
       "      <td>True</td>\n",
       "      <td>True</td>\n",
       "      <td>486</td>\n",
       "      <td>None</td>\n",
       "      <td>None</td>\n",
       "      <td>None</td>\n",
       "      <td>None</td>\n",
       "      <td>False</td>\n",
       "      <td>False</td>\n",
       "      <td>False</td>\n",
       "      <td>False</td>\n",
       "      <td>False</td>\n",
       "      <td>False</td>\n",
       "    </tr>\n",
       "    <tr>\n",
       "      <th>3</th>\n",
       "      <td>1er mois de grossesse : tout ce qu'il se passe</td>\n",
       "      <td>True</td>\n",
       "      <td>True</td>\n",
       "      <td>392</td>\n",
       "      <td>None</td>\n",
       "      <td>None</td>\n",
       "      <td>None</td>\n",
       "      <td>None</td>\n",
       "      <td>False</td>\n",
       "      <td>False</td>\n",
       "      <td>False</td>\n",
       "      <td>False</td>\n",
       "      <td>False</td>\n",
       "      <td>False</td>\n",
       "    </tr>\n",
       "    <tr>\n",
       "      <th>4</th>\n",
       "      <td>2 conseils clés pour les débuts de l'allaitement</td>\n",
       "      <td>True</td>\n",
       "      <td>True</td>\n",
       "      <td>122</td>\n",
       "      <td>None</td>\n",
       "      <td>None</td>\n",
       "      <td>None</td>\n",
       "      <td>None</td>\n",
       "      <td>False</td>\n",
       "      <td>False</td>\n",
       "      <td>False</td>\n",
       "      <td>False</td>\n",
       "      <td>False</td>\n",
       "      <td>False</td>\n",
       "    </tr>\n",
       "  </tbody>\n",
       "</table>\n",
       "</div>"
      ],
      "text/plain": [
       "                                               title  to_be_translated_en  \\\n",
       "0  \"Bien se tenir à table\", ça veut dire quoi exa...                False   \n",
       "1  10 questions que vous vous posez sur l'allaite...                 True   \n",
       "2                  10 sujets tabous sur la maternité                 True   \n",
       "3     1er mois de grossesse : tout ce qu'il se passe                 True   \n",
       "4   2 conseils clés pour les débuts de l'allaitement                 True   \n",
       "\n",
       "   to_be_translated_es   id translation_reviewed_by_es  \\\n",
       "0                False  792                       None   \n",
       "1                 True  584                       None   \n",
       "2                 True  486                       None   \n",
       "3                 True  392                       None   \n",
       "4                 True  122                       None   \n",
       "\n",
       "  translation_reviewed_by_en approved_by_es approved_by_en  ai_translated_es  \\\n",
       "0                       None           None           None             False   \n",
       "1                       None           None           None             False   \n",
       "2                       None           None           None             False   \n",
       "3                       None           None           None             False   \n",
       "4                       None           None           None             False   \n",
       "\n",
       "   ai_translated_en  translation_reviewed_es  translation_reviewed_en  \\\n",
       "0             False                    False                    False   \n",
       "1             False                    False                    False   \n",
       "2             False                    False                    False   \n",
       "3             False                    False                    False   \n",
       "4             False                    False                    False   \n",
       "\n",
       "   approved_es  approved_en  \n",
       "0        False        False  \n",
       "1        False        False  \n",
       "2        False        False  \n",
       "3        False        False  \n",
       "4        False        False  "
      ]
     },
     "execution_count": 52,
     "metadata": {},
     "output_type": "execute_result"
    }
   ],
   "source": [
    "data.head()"
   ]
  },
  {
   "cell_type": "code",
   "execution_count": 53,
   "metadata": {},
   "outputs": [],
   "source": [
    "en_df = pd.read_csv(\"./data/posts_translated_241015.csv\")"
   ]
  },
  {
   "cell_type": "code",
   "execution_count": 54,
   "metadata": {},
   "outputs": [
    {
     "data": {
      "text/html": [
       "<div>\n",
       "<style scoped>\n",
       "    .dataframe tbody tr th:only-of-type {\n",
       "        vertical-align: middle;\n",
       "    }\n",
       "\n",
       "    .dataframe tbody tr th {\n",
       "        vertical-align: top;\n",
       "    }\n",
       "\n",
       "    .dataframe thead th {\n",
       "        text-align: right;\n",
       "    }\n",
       "</style>\n",
       "<table border=\"1\" class=\"dataframe\">\n",
       "  <thead>\n",
       "    <tr style=\"text-align: right;\">\n",
       "      <th></th>\n",
       "      <th>id</th>\n",
       "      <th>title</th>\n",
       "      <th>content</th>\n",
       "    </tr>\n",
       "  </thead>\n",
       "  <tbody>\n",
       "    <tr>\n",
       "      <th>0</th>\n",
       "      <td>339</td>\n",
       "      <td>Epidural\\n\\nThe epidural is a common medical p...</td>\n",
       "      <td>Epidural anesthesia is the most common method ...</td>\n",
       "    </tr>\n",
       "    <tr>\n",
       "      <th>1</th>\n",
       "      <td>613</td>\n",
       "      <td>Uterine Contractions: Why, When, How?\\n\\nUteri...</td>\n",
       "      <td>The uterus is made up of several layers. While...</td>\n",
       "    </tr>\n",
       "    <tr>\n",
       "      <th>2</th>\n",
       "      <td>335</td>\n",
       "      <td>The Final Stretch: The Pushing Stage</td>\n",
       "      <td>Expulsion is the final stage that separates yo...</td>\n",
       "    </tr>\n",
       "    <tr>\n",
       "      <th>3</th>\n",
       "      <td>726</td>\n",
       "      <td>What Does Your Baby Experience During Birth?\\n...</td>\n",
       "      <td>When we talk about childbirth, we generally fo...</td>\n",
       "    </tr>\n",
       "    <tr>\n",
       "      <th>4</th>\n",
       "      <td>372</td>\n",
       "      <td>Cesarean Section\\n\\nA cesarean section, often ...</td>\n",
       "      <td>Cesarean sections account for 20.4% of births ...</td>\n",
       "    </tr>\n",
       "  </tbody>\n",
       "</table>\n",
       "</div>"
      ],
      "text/plain": [
       "    id                                              title  \\\n",
       "0  339  Epidural\\n\\nThe epidural is a common medical p...   \n",
       "1  613  Uterine Contractions: Why, When, How?\\n\\nUteri...   \n",
       "2  335               The Final Stretch: The Pushing Stage   \n",
       "3  726  What Does Your Baby Experience During Birth?\\n...   \n",
       "4  372  Cesarean Section\\n\\nA cesarean section, often ...   \n",
       "\n",
       "                                             content  \n",
       "0  Epidural anesthesia is the most common method ...  \n",
       "1  The uterus is made up of several layers. While...  \n",
       "2  Expulsion is the final stage that separates yo...  \n",
       "3  When we talk about childbirth, we generally fo...  \n",
       "4  Cesarean sections account for 20.4% of births ...  "
      ]
     },
     "execution_count": 54,
     "metadata": {},
     "output_type": "execute_result"
    }
   ],
   "source": [
    "en_df.head()"
   ]
  },
  {
   "cell_type": "code",
   "execution_count": 55,
   "metadata": {},
   "outputs": [],
   "source": [
    "# si id dans data est dans en_df, alors on met à jour les colonnes ai_translated_en -> True\n",
    "\n",
    "data.loc[data[\"id\"].isin(en_df[\"id\"]), \"ai_translated_en\"] = True"
   ]
  },
  {
   "cell_type": "code",
   "execution_count": 56,
   "metadata": {},
   "outputs": [],
   "source": [
    "df_es_1 = pd.read_csv(\"./data/posts_translated_es_Cintia_241016.csv\")"
   ]
  },
  {
   "cell_type": "code",
   "execution_count": 57,
   "metadata": {},
   "outputs": [],
   "source": [
    "df_es_2 = pd.read_csv(\"./data/posts_translated_es_Maria_241016.csv\")\n"
   ]
  },
  {
   "cell_type": "code",
   "execution_count": 58,
   "metadata": {},
   "outputs": [],
   "source": [
    "# si id dans data est dans df_es_1 ou df_es_2 alors on met à jour les colonnes ai_translated_es -> True\n",
    "data.loc[data[\"id\"].isin(df_es_1[\"id\"]), \"ai_translated_es\"] = True\n",
    "data.loc[data[\"id\"].isin(df_es_2[\"id\"]), \"ai_translated_es\"] = True\n"
   ]
  },
  {
   "cell_type": "code",
   "execution_count": 59,
   "metadata": {},
   "outputs": [
    {
     "data": {
      "text/html": [
       "<div>\n",
       "<style scoped>\n",
       "    .dataframe tbody tr th:only-of-type {\n",
       "        vertical-align: middle;\n",
       "    }\n",
       "\n",
       "    .dataframe tbody tr th {\n",
       "        vertical-align: top;\n",
       "    }\n",
       "\n",
       "    .dataframe thead th {\n",
       "        text-align: right;\n",
       "    }\n",
       "</style>\n",
       "<table border=\"1\" class=\"dataframe\">\n",
       "  <thead>\n",
       "    <tr style=\"text-align: right;\">\n",
       "      <th></th>\n",
       "      <th>title</th>\n",
       "      <th>to_be_translated_en</th>\n",
       "      <th>to_be_translated_es</th>\n",
       "      <th>id</th>\n",
       "      <th>translation_reviewed_by_es</th>\n",
       "      <th>translation_reviewed_by_en</th>\n",
       "      <th>approved_by_es</th>\n",
       "      <th>approved_by_en</th>\n",
       "      <th>ai_translated_es</th>\n",
       "      <th>ai_translated_en</th>\n",
       "      <th>translation_reviewed_es</th>\n",
       "      <th>translation_reviewed_en</th>\n",
       "      <th>approved_es</th>\n",
       "      <th>approved_en</th>\n",
       "    </tr>\n",
       "  </thead>\n",
       "  <tbody>\n",
       "    <tr>\n",
       "      <th>0</th>\n",
       "      <td>\"Bien se tenir à table\", ça veut dire quoi exa...</td>\n",
       "      <td>False</td>\n",
       "      <td>False</td>\n",
       "      <td>792</td>\n",
       "      <td>None</td>\n",
       "      <td>None</td>\n",
       "      <td>None</td>\n",
       "      <td>None</td>\n",
       "      <td>False</td>\n",
       "      <td>False</td>\n",
       "      <td>False</td>\n",
       "      <td>False</td>\n",
       "      <td>False</td>\n",
       "      <td>False</td>\n",
       "    </tr>\n",
       "    <tr>\n",
       "      <th>1</th>\n",
       "      <td>10 questions que vous vous posez sur l'allaite...</td>\n",
       "      <td>True</td>\n",
       "      <td>True</td>\n",
       "      <td>584</td>\n",
       "      <td>None</td>\n",
       "      <td>None</td>\n",
       "      <td>None</td>\n",
       "      <td>None</td>\n",
       "      <td>False</td>\n",
       "      <td>False</td>\n",
       "      <td>False</td>\n",
       "      <td>False</td>\n",
       "      <td>False</td>\n",
       "      <td>False</td>\n",
       "    </tr>\n",
       "    <tr>\n",
       "      <th>2</th>\n",
       "      <td>10 sujets tabous sur la maternité</td>\n",
       "      <td>True</td>\n",
       "      <td>True</td>\n",
       "      <td>486</td>\n",
       "      <td>None</td>\n",
       "      <td>None</td>\n",
       "      <td>None</td>\n",
       "      <td>None</td>\n",
       "      <td>True</td>\n",
       "      <td>False</td>\n",
       "      <td>False</td>\n",
       "      <td>False</td>\n",
       "      <td>False</td>\n",
       "      <td>False</td>\n",
       "    </tr>\n",
       "    <tr>\n",
       "      <th>3</th>\n",
       "      <td>1er mois de grossesse : tout ce qu'il se passe</td>\n",
       "      <td>True</td>\n",
       "      <td>True</td>\n",
       "      <td>392</td>\n",
       "      <td>None</td>\n",
       "      <td>None</td>\n",
       "      <td>None</td>\n",
       "      <td>None</td>\n",
       "      <td>True</td>\n",
       "      <td>False</td>\n",
       "      <td>False</td>\n",
       "      <td>False</td>\n",
       "      <td>False</td>\n",
       "      <td>False</td>\n",
       "    </tr>\n",
       "    <tr>\n",
       "      <th>4</th>\n",
       "      <td>2 conseils clés pour les débuts de l'allaitement</td>\n",
       "      <td>True</td>\n",
       "      <td>True</td>\n",
       "      <td>122</td>\n",
       "      <td>None</td>\n",
       "      <td>None</td>\n",
       "      <td>None</td>\n",
       "      <td>None</td>\n",
       "      <td>False</td>\n",
       "      <td>False</td>\n",
       "      <td>False</td>\n",
       "      <td>False</td>\n",
       "      <td>False</td>\n",
       "      <td>False</td>\n",
       "    </tr>\n",
       "  </tbody>\n",
       "</table>\n",
       "</div>"
      ],
      "text/plain": [
       "                                               title  to_be_translated_en  \\\n",
       "0  \"Bien se tenir à table\", ça veut dire quoi exa...                False   \n",
       "1  10 questions que vous vous posez sur l'allaite...                 True   \n",
       "2                  10 sujets tabous sur la maternité                 True   \n",
       "3     1er mois de grossesse : tout ce qu'il se passe                 True   \n",
       "4   2 conseils clés pour les débuts de l'allaitement                 True   \n",
       "\n",
       "   to_be_translated_es   id translation_reviewed_by_es  \\\n",
       "0                False  792                       None   \n",
       "1                 True  584                       None   \n",
       "2                 True  486                       None   \n",
       "3                 True  392                       None   \n",
       "4                 True  122                       None   \n",
       "\n",
       "  translation_reviewed_by_en approved_by_es approved_by_en  ai_translated_es  \\\n",
       "0                       None           None           None             False   \n",
       "1                       None           None           None             False   \n",
       "2                       None           None           None              True   \n",
       "3                       None           None           None              True   \n",
       "4                       None           None           None             False   \n",
       "\n",
       "   ai_translated_en  translation_reviewed_es  translation_reviewed_en  \\\n",
       "0             False                    False                    False   \n",
       "1             False                    False                    False   \n",
       "2             False                    False                    False   \n",
       "3             False                    False                    False   \n",
       "4             False                    False                    False   \n",
       "\n",
       "   approved_es  approved_en  \n",
       "0        False        False  \n",
       "1        False        False  \n",
       "2        False        False  \n",
       "3        False        False  \n",
       "4        False        False  "
      ]
     },
     "execution_count": 59,
     "metadata": {},
     "output_type": "execute_result"
    }
   ],
   "source": [
    "data.head()"
   ]
  },
  {
   "cell_type": "code",
   "execution_count": 60,
   "metadata": {},
   "outputs": [],
   "source": [
    "data.to_csv(\"./data/translation_followup.csv\", index=False)"
   ]
  },
  {
   "cell_type": "code",
   "execution_count": 61,
   "metadata": {},
   "outputs": [
    {
     "name": "stdout",
     "output_type": "stream",
     "text": [
      "<class 'pandas.core.frame.DataFrame'>\n",
      "RangeIndex: 760 entries, 0 to 759\n",
      "Data columns (total 14 columns):\n",
      " #   Column                      Non-Null Count  Dtype \n",
      "---  ------                      --------------  ----- \n",
      " 0   title                       760 non-null    object\n",
      " 1   to_be_translated_en         760 non-null    bool  \n",
      " 2   to_be_translated_es         760 non-null    bool  \n",
      " 3   id                          760 non-null    int64 \n",
      " 4   translation_reviewed_by_es  0 non-null      object\n",
      " 5   translation_reviewed_by_en  0 non-null      object\n",
      " 6   approved_by_es              0 non-null      object\n",
      " 7   approved_by_en              0 non-null      object\n",
      " 8   ai_translated_es            760 non-null    bool  \n",
      " 9   ai_translated_en            760 non-null    bool  \n",
      " 10  translation_reviewed_es     760 non-null    bool  \n",
      " 11  translation_reviewed_en     760 non-null    bool  \n",
      " 12  approved_es                 760 non-null    bool  \n",
      " 13  approved_en                 760 non-null    bool  \n",
      "dtypes: bool(8), int64(1), object(5)\n",
      "memory usage: 41.7+ KB\n"
     ]
    }
   ],
   "source": [
    "data.info()"
   ]
  },
  {
   "cell_type": "code",
   "execution_count": null,
   "metadata": {},
   "outputs": [],
   "source": []
  }
 ],
 "metadata": {
  "kernelspec": {
   "display_name": ".venv",
   "language": "python",
   "name": "python3"
  },
  "language_info": {
   "codemirror_mode": {
    "name": "ipython",
    "version": 3
   },
   "file_extension": ".py",
   "mimetype": "text/x-python",
   "name": "python",
   "nbconvert_exporter": "python",
   "pygments_lexer": "ipython3",
   "version": "3.12.7"
  }
 },
 "nbformat": 4,
 "nbformat_minor": 2
}
